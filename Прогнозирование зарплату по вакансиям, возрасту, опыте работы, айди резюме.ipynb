{
 "cells": [
  {
   "cell_type": "code",
   "execution_count": 1,
   "id": "f9450c5c",
   "metadata": {},
   "outputs": [],
   "source": [
    "import pandas as pd\n",
    "import numpy as np\n",
    "data = pd.read_excel(\"C:\\\\Users\\\\Lenovo\\\\Documents\\\\resume_final_.xlsx\")"
   ]
  },
  {
   "cell_type": "code",
   "execution_count": 2,
   "id": "bf15d0bc",
   "metadata": {},
   "outputs": [
    {
     "data": {
      "text/html": [
       "<div>\n",
       "<style scoped>\n",
       "    .dataframe tbody tr th:only-of-type {\n",
       "        vertical-align: middle;\n",
       "    }\n",
       "\n",
       "    .dataframe tbody tr th {\n",
       "        vertical-align: top;\n",
       "    }\n",
       "\n",
       "    .dataframe thead th {\n",
       "        text-align: right;\n",
       "    }\n",
       "</style>\n",
       "<table border=\"1\" class=\"dataframe\">\n",
       "  <thead>\n",
       "    <tr style=\"text-align: right;\">\n",
       "      <th></th>\n",
       "      <th>позиция</th>\n",
       "      <th>зарплата</th>\n",
       "      <th>рабочий опыт</th>\n",
       "      <th>образование</th>\n",
       "      <th>айди резюме</th>\n",
       "      <th>гендер</th>\n",
       "      <th>возраст</th>\n",
       "      <th>область</th>\n",
       "      <th>город/район</th>\n",
       "    </tr>\n",
       "  </thead>\n",
       "  <tbody>\n",
       "    <tr>\n",
       "      <th>0</th>\n",
       "      <td>Оператор газораспределительной станции</td>\n",
       "      <td>70000</td>\n",
       "      <td>1</td>\n",
       "      <td>общее среднее (с 1 по 11/12 классы)</td>\n",
       "      <td>2595323</td>\n",
       "      <td>мужской</td>\n",
       "      <td>45</td>\n",
       "      <td>Западно-Казахстанская область</td>\n",
       "      <td>Жанакалинский с.о., с.Жангала</td>\n",
       "    </tr>\n",
       "    <tr>\n",
       "      <th>1</th>\n",
       "      <td>Дозировщик</td>\n",
       "      <td>60000</td>\n",
       "      <td>0</td>\n",
       "      <td>техническое и профессиональное</td>\n",
       "      <td>2595154</td>\n",
       "      <td>мужской</td>\n",
       "      <td>53</td>\n",
       "      <td>Костанайская область</td>\n",
       "      <td>Карабалыкский район</td>\n",
       "    </tr>\n",
       "    <tr>\n",
       "      <th>2</th>\n",
       "      <td>Дозировщик</td>\n",
       "      <td>80000</td>\n",
       "      <td>0</td>\n",
       "      <td>основное среднее (с 1 по 9 класс)</td>\n",
       "      <td>2595113</td>\n",
       "      <td>мужской</td>\n",
       "      <td>20</td>\n",
       "      <td>Костанайская область</td>\n",
       "      <td>Костанайский район</td>\n",
       "    </tr>\n",
       "    <tr>\n",
       "      <th>3</th>\n",
       "      <td>Раздатчик нефтепродуктов</td>\n",
       "      <td>70000</td>\n",
       "      <td>0</td>\n",
       "      <td>общее среднее (с 1 по 11/12 классы)</td>\n",
       "      <td>2595110</td>\n",
       "      <td>мужской</td>\n",
       "      <td>31</td>\n",
       "      <td>Кызылординская область</td>\n",
       "      <td>г.Кызылорда</td>\n",
       "    </tr>\n",
       "    <tr>\n",
       "      <th>4</th>\n",
       "      <td>Дозировщик</td>\n",
       "      <td>70000</td>\n",
       "      <td>0</td>\n",
       "      <td>техническое и профессиональное</td>\n",
       "      <td>2595101</td>\n",
       "      <td>мужской</td>\n",
       "      <td>25</td>\n",
       "      <td>Костанайская область</td>\n",
       "      <td>Денисовский район</td>\n",
       "    </tr>\n",
       "    <tr>\n",
       "      <th>...</th>\n",
       "      <td>...</td>\n",
       "      <td>...</td>\n",
       "      <td>...</td>\n",
       "      <td>...</td>\n",
       "      <td>...</td>\n",
       "      <td>...</td>\n",
       "      <td>...</td>\n",
       "      <td>...</td>\n",
       "      <td>...</td>\n",
       "    </tr>\n",
       "    <tr>\n",
       "      <th>395</th>\n",
       "      <td>Техник по эксплуатации оборудования газовых об...</td>\n",
       "      <td>200000</td>\n",
       "      <td>0</td>\n",
       "      <td>послесреднее</td>\n",
       "      <td>2530410</td>\n",
       "      <td>мужской</td>\n",
       "      <td>19</td>\n",
       "      <td>Атырауская область</td>\n",
       "      <td>с.о.Құрманғазы, с.Құрманғазы</td>\n",
       "    </tr>\n",
       "    <tr>\n",
       "      <th>396</th>\n",
       "      <td>Юрист</td>\n",
       "      <td>150000</td>\n",
       "      <td>5</td>\n",
       "      <td>высшее</td>\n",
       "      <td>2530405</td>\n",
       "      <td>мужской</td>\n",
       "      <td>35</td>\n",
       "      <td>Акмолинская область</td>\n",
       "      <td>г.Степногорск</td>\n",
       "    </tr>\n",
       "    <tr>\n",
       "      <th>397</th>\n",
       "      <td>Начальник вахты (на производстве)</td>\n",
       "      <td>400000</td>\n",
       "      <td>21</td>\n",
       "      <td>высшее</td>\n",
       "      <td>2530364</td>\n",
       "      <td>мужской</td>\n",
       "      <td>47</td>\n",
       "      <td>Западно-Казахстанская область</td>\n",
       "      <td>г.Уральск</td>\n",
       "    </tr>\n",
       "    <tr>\n",
       "      <th>398</th>\n",
       "      <td>Мастер по добыче нефти, газа и конденсата</td>\n",
       "      <td>84000</td>\n",
       "      <td>0</td>\n",
       "      <td>техническое и профессиональное</td>\n",
       "      <td>2530103</td>\n",
       "      <td>мужской</td>\n",
       "      <td>20</td>\n",
       "      <td>Туркестанская область</td>\n",
       "      <td>г.Туркестан</td>\n",
       "    </tr>\n",
       "    <tr>\n",
       "      <th>399</th>\n",
       "      <td>Оператор по добыче нефти и газа</td>\n",
       "      <td>150000</td>\n",
       "      <td>10</td>\n",
       "      <td>техническое и профессиональное</td>\n",
       "      <td>2529887</td>\n",
       "      <td>мужской</td>\n",
       "      <td>42</td>\n",
       "      <td>Мангистауская область</td>\n",
       "      <td>г.Актау</td>\n",
       "    </tr>\n",
       "  </tbody>\n",
       "</table>\n",
       "<p>400 rows × 9 columns</p>\n",
       "</div>"
      ],
      "text/plain": [
       "                                               позиция  зарплата  \\\n",
       "0               Оператор газораспределительной станции     70000   \n",
       "1                                           Дозировщик     60000   \n",
       "2                                           Дозировщик     80000   \n",
       "3                             Раздатчик нефтепродуктов     70000   \n",
       "4                                           Дозировщик     70000   \n",
       "..                                                 ...       ...   \n",
       "395  Техник по эксплуатации оборудования газовых об...    200000   \n",
       "396                                              Юрист    150000   \n",
       "397                  Начальник вахты (на производстве)    400000   \n",
       "398          Мастер по добыче нефти, газа и конденсата     84000   \n",
       "399                    Оператор по добыче нефти и газа    150000   \n",
       "\n",
       "     рабочий опыт                          образование  айди резюме   гендер  \\\n",
       "0               1  общее среднее (с 1 по 11/12 классы)      2595323  мужской   \n",
       "1               0       техническое и профессиональное      2595154  мужской   \n",
       "2               0    основное среднее (с 1 по 9 класс)      2595113  мужской   \n",
       "3               0  общее среднее (с 1 по 11/12 классы)      2595110  мужской   \n",
       "4               0       техническое и профессиональное      2595101  мужской   \n",
       "..            ...                                  ...          ...      ...   \n",
       "395             0                         послесреднее      2530410  мужской   \n",
       "396             5                               высшее      2530405  мужской   \n",
       "397            21                               высшее      2530364  мужской   \n",
       "398             0       техническое и профессиональное      2530103  мужской   \n",
       "399            10       техническое и профессиональное      2529887  мужской   \n",
       "\n",
       "     возраст                        область                     город/район  \n",
       "0         45  Западно-Казахстанская область   Жанакалинский с.о., с.Жангала  \n",
       "1         53           Костанайская область             Карабалыкский район  \n",
       "2         20           Костанайская область              Костанайский район  \n",
       "3         31         Кызылординская область                     г.Кызылорда  \n",
       "4         25           Костанайская область               Денисовский район  \n",
       "..       ...                            ...                             ...  \n",
       "395       19             Атырауская область    с.о.Құрманғазы, с.Құрманғазы  \n",
       "396       35            Акмолинская область                   г.Степногорск  \n",
       "397       47  Западно-Казахстанская область                       г.Уральск  \n",
       "398       20          Туркестанская область                     г.Туркестан  \n",
       "399       42          Мангистауская область                         г.Актау  \n",
       "\n",
       "[400 rows x 9 columns]"
      ]
     },
     "execution_count": 2,
     "metadata": {},
     "output_type": "execute_result"
    }
   ],
   "source": [
    "data"
   ]
  },
  {
   "cell_type": "code",
   "execution_count": 53,
   "id": "d448c262",
   "metadata": {},
   "outputs": [],
   "source": [
    "lt=[]\n",
    "k=0\n",
    "for i in range(len(data)):\n",
    "    lt.append(0)\n",
    "for i in range(len(data)):\n",
    "    if lt[i]==0:\n",
    "        k+=1\n",
    "        for j in range(len(data)):\n",
    "            if data['позиция'][i]==data['позиция'][j]:\n",
    "                lt[j]=k"
   ]
  },
  {
   "cell_type": "code",
   "execution_count": 54,
   "id": "ebff05f1",
   "metadata": {},
   "outputs": [],
   "source": [
    "list_num = [] \n",
    "for i in range(len(data)): \n",
    "    try: \n",
    "        num = lt[i] \n",
    "        list_num.append(int(num)) \n",
    "    except ValueError: \n",
    "        continue \n",
    "column_values = pd.Series(list_num) \n",
    "data.insert(loc=1, column='id_позиций', value=column_values)"
   ]
  },
  {
   "cell_type": "code",
   "execution_count": 55,
   "id": "722a6578",
   "metadata": {},
   "outputs": [
    {
     "data": {
      "text/html": [
       "<div>\n",
       "<style scoped>\n",
       "    .dataframe tbody tr th:only-of-type {\n",
       "        vertical-align: middle;\n",
       "    }\n",
       "\n",
       "    .dataframe tbody tr th {\n",
       "        vertical-align: top;\n",
       "    }\n",
       "\n",
       "    .dataframe thead th {\n",
       "        text-align: right;\n",
       "    }\n",
       "</style>\n",
       "<table border=\"1\" class=\"dataframe\">\n",
       "  <thead>\n",
       "    <tr style=\"text-align: right;\">\n",
       "      <th></th>\n",
       "      <th>позиция</th>\n",
       "      <th>id_позиций</th>\n",
       "      <th>зарплата</th>\n",
       "      <th>рабочий опыт</th>\n",
       "      <th>образование</th>\n",
       "      <th>айди резюме</th>\n",
       "      <th>гендер</th>\n",
       "      <th>возраст</th>\n",
       "      <th>область</th>\n",
       "      <th>город/район</th>\n",
       "    </tr>\n",
       "  </thead>\n",
       "  <tbody>\n",
       "    <tr>\n",
       "      <th>0</th>\n",
       "      <td>Оператор газораспределительной станции</td>\n",
       "      <td>1</td>\n",
       "      <td>70000</td>\n",
       "      <td>1</td>\n",
       "      <td>общее среднее (с 1 по 11/12 классы)</td>\n",
       "      <td>2595323</td>\n",
       "      <td>7</td>\n",
       "      <td>45</td>\n",
       "      <td>Западно-Казахстанская область</td>\n",
       "      <td>Жанакалинский с.о., с.Жангала</td>\n",
       "    </tr>\n",
       "    <tr>\n",
       "      <th>1</th>\n",
       "      <td>Дозировщик</td>\n",
       "      <td>2</td>\n",
       "      <td>60000</td>\n",
       "      <td>0</td>\n",
       "      <td>техническое и профессиональное</td>\n",
       "      <td>2595154</td>\n",
       "      <td>7</td>\n",
       "      <td>53</td>\n",
       "      <td>Костанайская область</td>\n",
       "      <td>Карабалыкский район</td>\n",
       "    </tr>\n",
       "    <tr>\n",
       "      <th>2</th>\n",
       "      <td>Дозировщик</td>\n",
       "      <td>2</td>\n",
       "      <td>80000</td>\n",
       "      <td>0</td>\n",
       "      <td>основное среднее (с 1 по 9 класс)</td>\n",
       "      <td>2595113</td>\n",
       "      <td>7</td>\n",
       "      <td>20</td>\n",
       "      <td>Костанайская область</td>\n",
       "      <td>Костанайский район</td>\n",
       "    </tr>\n",
       "    <tr>\n",
       "      <th>3</th>\n",
       "      <td>Раздатчик нефтепродуктов</td>\n",
       "      <td>3</td>\n",
       "      <td>70000</td>\n",
       "      <td>0</td>\n",
       "      <td>общее среднее (с 1 по 11/12 классы)</td>\n",
       "      <td>2595110</td>\n",
       "      <td>7</td>\n",
       "      <td>31</td>\n",
       "      <td>Кызылординская область</td>\n",
       "      <td>г.Кызылорда</td>\n",
       "    </tr>\n",
       "    <tr>\n",
       "      <th>4</th>\n",
       "      <td>Дозировщик</td>\n",
       "      <td>2</td>\n",
       "      <td>70000</td>\n",
       "      <td>0</td>\n",
       "      <td>техническое и профессиональное</td>\n",
       "      <td>2595101</td>\n",
       "      <td>7</td>\n",
       "      <td>25</td>\n",
       "      <td>Костанайская область</td>\n",
       "      <td>Денисовский район</td>\n",
       "    </tr>\n",
       "    <tr>\n",
       "      <th>...</th>\n",
       "      <td>...</td>\n",
       "      <td>...</td>\n",
       "      <td>...</td>\n",
       "      <td>...</td>\n",
       "      <td>...</td>\n",
       "      <td>...</td>\n",
       "      <td>...</td>\n",
       "      <td>...</td>\n",
       "      <td>...</td>\n",
       "      <td>...</td>\n",
       "    </tr>\n",
       "    <tr>\n",
       "      <th>395</th>\n",
       "      <td>Техник по эксплуатации оборудования газовых об...</td>\n",
       "      <td>71</td>\n",
       "      <td>200000</td>\n",
       "      <td>0</td>\n",
       "      <td>послесреднее</td>\n",
       "      <td>2530410</td>\n",
       "      <td>7</td>\n",
       "      <td>19</td>\n",
       "      <td>Атырауская область</td>\n",
       "      <td>с.о.Құрманғазы, с.Құрманғазы</td>\n",
       "    </tr>\n",
       "    <tr>\n",
       "      <th>396</th>\n",
       "      <td>Юрист</td>\n",
       "      <td>119</td>\n",
       "      <td>150000</td>\n",
       "      <td>5</td>\n",
       "      <td>высшее</td>\n",
       "      <td>2530405</td>\n",
       "      <td>7</td>\n",
       "      <td>35</td>\n",
       "      <td>Акмолинская область</td>\n",
       "      <td>г.Степногорск</td>\n",
       "    </tr>\n",
       "    <tr>\n",
       "      <th>397</th>\n",
       "      <td>Начальник вахты (на производстве)</td>\n",
       "      <td>120</td>\n",
       "      <td>400000</td>\n",
       "      <td>21</td>\n",
       "      <td>высшее</td>\n",
       "      <td>2530364</td>\n",
       "      <td>7</td>\n",
       "      <td>47</td>\n",
       "      <td>Западно-Казахстанская область</td>\n",
       "      <td>г.Уральск</td>\n",
       "    </tr>\n",
       "    <tr>\n",
       "      <th>398</th>\n",
       "      <td>Мастер по добыче нефти, газа и конденсата</td>\n",
       "      <td>51</td>\n",
       "      <td>84000</td>\n",
       "      <td>0</td>\n",
       "      <td>техническое и профессиональное</td>\n",
       "      <td>2530103</td>\n",
       "      <td>7</td>\n",
       "      <td>20</td>\n",
       "      <td>Туркестанская область</td>\n",
       "      <td>г.Туркестан</td>\n",
       "    </tr>\n",
       "    <tr>\n",
       "      <th>399</th>\n",
       "      <td>Оператор по добыче нефти и газа</td>\n",
       "      <td>13</td>\n",
       "      <td>150000</td>\n",
       "      <td>10</td>\n",
       "      <td>техническое и профессиональное</td>\n",
       "      <td>2529887</td>\n",
       "      <td>7</td>\n",
       "      <td>42</td>\n",
       "      <td>Мангистауская область</td>\n",
       "      <td>г.Актау</td>\n",
       "    </tr>\n",
       "  </tbody>\n",
       "</table>\n",
       "<p>400 rows × 10 columns</p>\n",
       "</div>"
      ],
      "text/plain": [
       "                                               позиция  id_позиций  зарплата  \\\n",
       "0               Оператор газораспределительной станции           1     70000   \n",
       "1                                           Дозировщик           2     60000   \n",
       "2                                           Дозировщик           2     80000   \n",
       "3                             Раздатчик нефтепродуктов           3     70000   \n",
       "4                                           Дозировщик           2     70000   \n",
       "..                                                 ...         ...       ...   \n",
       "395  Техник по эксплуатации оборудования газовых об...          71    200000   \n",
       "396                                              Юрист         119    150000   \n",
       "397                  Начальник вахты (на производстве)         120    400000   \n",
       "398          Мастер по добыче нефти, газа и конденсата          51     84000   \n",
       "399                    Оператор по добыче нефти и газа          13    150000   \n",
       "\n",
       "     рабочий опыт                          образование  айди резюме  гендер  \\\n",
       "0               1  общее среднее (с 1 по 11/12 классы)      2595323       7   \n",
       "1               0       техническое и профессиональное      2595154       7   \n",
       "2               0    основное среднее (с 1 по 9 класс)      2595113       7   \n",
       "3               0  общее среднее (с 1 по 11/12 классы)      2595110       7   \n",
       "4               0       техническое и профессиональное      2595101       7   \n",
       "..            ...                                  ...          ...     ...   \n",
       "395             0                         послесреднее      2530410       7   \n",
       "396             5                               высшее      2530405       7   \n",
       "397            21                               высшее      2530364       7   \n",
       "398             0       техническое и профессиональное      2530103       7   \n",
       "399            10       техническое и профессиональное      2529887       7   \n",
       "\n",
       "     возраст                        область                     город/район  \n",
       "0         45  Западно-Казахстанская область   Жанакалинский с.о., с.Жангала  \n",
       "1         53           Костанайская область             Карабалыкский район  \n",
       "2         20           Костанайская область              Костанайский район  \n",
       "3         31         Кызылординская область                     г.Кызылорда  \n",
       "4         25           Костанайская область               Денисовский район  \n",
       "..       ...                            ...                             ...  \n",
       "395       19             Атырауская область    с.о.Құрманғазы, с.Құрманғазы  \n",
       "396       35            Акмолинская область                   г.Степногорск  \n",
       "397       47  Западно-Казахстанская область                       г.Уральск  \n",
       "398       20          Туркестанская область                     г.Туркестан  \n",
       "399       42          Мангистауская область                         г.Актау  \n",
       "\n",
       "[400 rows x 10 columns]"
      ]
     },
     "execution_count": 55,
     "metadata": {},
     "output_type": "execute_result"
    }
   ],
   "source": [
    "data"
   ]
  },
  {
   "cell_type": "code",
   "execution_count": 4,
   "id": "ff496749",
   "metadata": {},
   "outputs": [
    {
     "name": "stdout",
     "output_type": "stream",
     "text": [
      "<class 'pandas.core.frame.DataFrame'>\n",
      "RangeIndex: 400 entries, 0 to 399\n",
      "Data columns (total 9 columns):\n",
      " #   Column        Non-Null Count  Dtype \n",
      "---  ------        --------------  ----- \n",
      " 0   позиция       400 non-null    object\n",
      " 1   зарплата      400 non-null    int64 \n",
      " 2   рабочий опыт  400 non-null    int64 \n",
      " 3   образование   400 non-null    object\n",
      " 4   айди резюме   400 non-null    int64 \n",
      " 5   гендер        400 non-null    object\n",
      " 6   возраст       400 non-null    int64 \n",
      " 7   область       400 non-null    object\n",
      " 8   город/район   400 non-null    object\n",
      "dtypes: int64(4), object(5)\n",
      "memory usage: 28.2+ KB\n"
     ]
    }
   ],
   "source": [
    "data.info()"
   ]
  },
  {
   "cell_type": "code",
   "execution_count": 5,
   "id": "bca6210e",
   "metadata": {},
   "outputs": [
    {
     "data": {
      "text/plain": [
       "count       400.000000\n",
       "mean     197730.655000\n",
       "std      136027.259952\n",
       "min       60000.000000\n",
       "25%      100000.000000\n",
       "50%      150000.000000\n",
       "75%      250000.000000\n",
       "max      900000.000000\n",
       "Name: зарплата, dtype: float64"
      ]
     },
     "execution_count": 5,
     "metadata": {},
     "output_type": "execute_result"
    }
   ],
   "source": [
    "data[\"зарплата\"].describe()"
   ]
  },
  {
   "cell_type": "code",
   "execution_count": 6,
   "id": "0b4120ad",
   "metadata": {},
   "outputs": [
    {
     "data": {
      "text/plain": [
       "count                                400\n",
       "unique                               120\n",
       "top       Инженер по добыче нефти и газа\n",
       "freq                                  43\n",
       "Name: позиция, dtype: object"
      ]
     },
     "execution_count": 6,
     "metadata": {},
     "output_type": "execute_result"
    }
   ],
   "source": [
    "data[\"позиция\"].describe()"
   ]
  },
  {
   "cell_type": "code",
   "execution_count": 7,
   "id": "d85169bd",
   "metadata": {},
   "outputs": [
    {
     "data": {
      "text/plain": [
       "count    400.000000\n",
       "mean       2.407500\n",
       "std        5.416159\n",
       "min        0.000000\n",
       "25%        0.000000\n",
       "50%        0.000000\n",
       "75%        2.000000\n",
       "max       32.000000\n",
       "Name: рабочий опыт, dtype: float64"
      ]
     },
     "execution_count": 7,
     "metadata": {},
     "output_type": "execute_result"
    }
   ],
   "source": [
    "data[\"рабочий опыт\"].describe()"
   ]
  },
  {
   "cell_type": "code",
   "execution_count": 8,
   "id": "4114bc54",
   "metadata": {},
   "outputs": [
    {
     "data": {
      "text/plain": [
       "count        400\n",
       "unique         8\n",
       "top       высшее\n",
       "freq         224\n",
       "Name: образование, dtype: object"
      ]
     },
     "execution_count": 8,
     "metadata": {},
     "output_type": "execute_result"
    }
   ],
   "source": [
    "data[\"образование\"].describe()"
   ]
  },
  {
   "cell_type": "code",
   "execution_count": 9,
   "id": "6d0e2228",
   "metadata": {},
   "outputs": [
    {
     "data": {
      "text/plain": [
       "count         400\n",
       "unique          2\n",
       "top       мужской\n",
       "freq          308\n",
       "Name: гендер, dtype: object"
      ]
     },
     "execution_count": 9,
     "metadata": {},
     "output_type": "execute_result"
    }
   ],
   "source": [
    "data[\"гендер\"].describe()"
   ]
  },
  {
   "cell_type": "code",
   "execution_count": 10,
   "id": "9c240497",
   "metadata": {},
   "outputs": [
    {
     "data": {
      "text/plain": [
       "count                       400\n",
       "unique                       17\n",
       "top       Мангистауская область\n",
       "freq                        105\n",
       "Name: область, dtype: object"
      ]
     },
     "execution_count": 10,
     "metadata": {},
     "output_type": "execute_result"
    }
   ],
   "source": [
    "data[\"область\"].describe()"
   ]
  },
  {
   "cell_type": "code",
   "execution_count": 11,
   "id": "e1b96e9b",
   "metadata": {},
   "outputs": [],
   "source": [
    "import matplotlib.pyplot as plt"
   ]
  },
  {
   "cell_type": "code",
   "execution_count": 12,
   "id": "49deb865",
   "metadata": {},
   "outputs": [
    {
     "name": "stderr",
     "output_type": "stream",
     "text": [
      "<ipython-input-12-aab9c23a4870>:3: SettingWithCopyWarning: \n",
      "A value is trying to be set on a copy of a slice from a DataFrame\n",
      "\n",
      "See the caveats in the documentation: https://pandas.pydata.org/pandas-docs/stable/user_guide/indexing.html#returning-a-view-versus-a-copy\n",
      "  data['гендер'][i]=7\n",
      "<ipython-input-12-aab9c23a4870>:5: SettingWithCopyWarning: \n",
      "A value is trying to be set on a copy of a slice from a DataFrame\n",
      "\n",
      "See the caveats in the documentation: https://pandas.pydata.org/pandas-docs/stable/user_guide/indexing.html#returning-a-view-versus-a-copy\n",
      "  data['гендер'][i]=8\n"
     ]
    }
   ],
   "source": [
    "for i in range(400):\n",
    "    if data['гендер'][i]=='мужской':\n",
    "        data['гендер'][i]=7\n",
    "    else:\n",
    "        data['гендер'][i]=8"
   ]
  },
  {
   "cell_type": "code",
   "execution_count": 13,
   "id": "31cef076",
   "metadata": {},
   "outputs": [],
   "source": [
    "X = data[['гендер', 'возраст']]\n",
    "y = data['зарплата']"
   ]
  },
  {
   "cell_type": "code",
   "execution_count": 14,
   "id": "e74f1bc8",
   "metadata": {},
   "outputs": [],
   "source": [
    "from sklearn import linear_model"
   ]
  },
  {
   "cell_type": "code",
   "execution_count": 15,
   "id": "a5fdb89c",
   "metadata": {},
   "outputs": [
    {
     "name": "stdout",
     "output_type": "stream",
     "text": [
      "<class 'pandas.core.frame.DataFrame'>\n",
      "RangeIndex: 400 entries, 0 to 399\n",
      "Data columns (total 9 columns):\n",
      " #   Column        Non-Null Count  Dtype \n",
      "---  ------        --------------  ----- \n",
      " 0   позиция       400 non-null    object\n",
      " 1   зарплата      400 non-null    int64 \n",
      " 2   рабочий опыт  400 non-null    int64 \n",
      " 3   образование   400 non-null    object\n",
      " 4   айди резюме   400 non-null    int64 \n",
      " 5   гендер        400 non-null    object\n",
      " 6   возраст       400 non-null    int64 \n",
      " 7   область       400 non-null    object\n",
      " 8   город/район   400 non-null    object\n",
      "dtypes: int64(4), object(5)\n",
      "memory usage: 28.2+ KB\n"
     ]
    }
   ],
   "source": [
    "data.info()"
   ]
  },
  {
   "cell_type": "raw",
   "id": "5b6d83cc",
   "metadata": {},
   "source": [
    "data[\"возраст\"].dropna(axis=0,inplace=True)"
   ]
  },
  {
   "cell_type": "code",
   "execution_count": 16,
   "id": "513b8e7f",
   "metadata": {},
   "outputs": [
    {
     "data": {
      "text/plain": [
       "LinearRegression()"
      ]
     },
     "execution_count": 16,
     "metadata": {},
     "output_type": "execute_result"
    }
   ],
   "source": [
    "regr = linear_model.LinearRegression()\n",
    "regr.fit(X, y)"
   ]
  },
  {
   "cell_type": "code",
   "execution_count": 17,
   "id": "29971fe6",
   "metadata": {},
   "outputs": [],
   "source": [
    "predicted_rbt = regr.predict([[2, 310]])"
   ]
  },
  {
   "cell_type": "code",
   "execution_count": 18,
   "id": "e4ab1e91",
   "metadata": {},
   "outputs": [
    {
     "data": {
      "text/plain": [
       "array([1099079.98020905])"
      ]
     },
     "execution_count": 18,
     "metadata": {},
     "output_type": "execute_result"
    }
   ],
   "source": [
    "predicted_rbt"
   ]
  },
  {
   "cell_type": "code",
   "execution_count": 19,
   "id": "ce4108b1",
   "metadata": {},
   "outputs": [
    {
     "data": {
      "text/plain": [
       "Text(0, 0.5, 'Количество резюме')"
      ]
     },
     "execution_count": 19,
     "metadata": {},
     "output_type": "execute_result"
    },
    {
     "data": {
      "image/png": "[encoded data removed]",
      "text/plain": [
       "<Figure size 432x288 with 1 Axes>"
      ]
     },
     "metadata": {
      "needs_background": "light"
     },
     "output_type": "display_data"
    }
   ],
   "source": [
    "import matplotlib.pyplot as plt\n",
    "plt.hist(data[\"возраст\"])\n",
    "plt.xlabel('Возраст')\n",
    "plt.ylabel('Количество резюме')"
   ]
  },
  {
   "cell_type": "code",
   "execution_count": 20,
   "id": "725228ad",
   "metadata": {},
   "outputs": [
    {
     "data": {
      "text/plain": [
       "Text(0, 0.5, 'Количество резюме')"
      ]
     },
     "execution_count": 20,
     "metadata": {},
     "output_type": "execute_result"
    },
    {
     "data": {
      "image/png": "[encoded data removed]",
      "text/plain": [
       "<Figure size 432x288 with 1 Axes>"
      ]
     },
     "metadata": {
      "needs_background": "light"
     },
     "output_type": "display_data"
    }
   ],
   "source": [
    "plt.hist(data[\"зарплата\"])\n",
    "plt.xlabel('Зарплата')\n",
    "plt.ylabel('Количество резюме')"
   ]
  },
  {
   "cell_type": "code",
   "execution_count": 21,
   "id": "8e2c7d8c",
   "metadata": {},
   "outputs": [],
   "source": [
    "data[\"гендер\"]=data[\"гендер\"].astype(int)"
   ]
  },
  {
   "cell_type": "code",
   "execution_count": 22,
   "id": "d264e257",
   "metadata": {},
   "outputs": [
    {
     "name": "stdout",
     "output_type": "stream",
     "text": [
      "<class 'pandas.core.frame.DataFrame'>\n",
      "RangeIndex: 400 entries, 0 to 399\n",
      "Data columns (total 9 columns):\n",
      " #   Column        Non-Null Count  Dtype \n",
      "---  ------        --------------  ----- \n",
      " 0   позиция       400 non-null    object\n",
      " 1   зарплата      400 non-null    int64 \n",
      " 2   рабочий опыт  400 non-null    int64 \n",
      " 3   образование   400 non-null    object\n",
      " 4   айди резюме   400 non-null    int64 \n",
      " 5   гендер        400 non-null    int32 \n",
      " 6   возраст       400 non-null    int64 \n",
      " 7   область       400 non-null    object\n",
      " 8   город/район   400 non-null    object\n",
      "dtypes: int32(1), int64(4), object(4)\n",
      "memory usage: 26.7+ KB\n"
     ]
    }
   ],
   "source": [
    "data.info()"
   ]
  },
  {
   "cell_type": "markdown",
   "id": "5e24da89",
   "metadata": {},
   "source": [
    "# Прогнозирование с линейной регрессией"
   ]
  },
  {
   "cell_type": "code",
   "execution_count": 71,
   "id": "f4b6a9d0",
   "metadata": {},
   "outputs": [
    {
     "name": "stdout",
     "output_type": "stream",
     "text": [
      "kx + b = 2543.0669103188898*k + 116193.5721879006\n"
     ]
    }
   ],
   "source": [
    "import matplotlib.pyplot as plt\n",
    "from scipy import stats\n",
    "k = data['возраст']\n",
    "l = data['зарплата']\n",
    "slope, intercept, r, p, std_err = stats.linregress(k, l)\n",
    "def myfunc(k):\n",
    "    return slope * k + intercept\n",
    "mymodel = list(map(myfunc, k))\n",
    "print(\"kx + b = \"+str(slope)+\"*k + \"+str(intercept))"
   ]
  },
  {
   "cell_type": "code",
   "execution_count": 72,
   "id": "1c52482d",
   "metadata": {},
   "outputs": [
    {
     "data": {
      "image/png": "[encoded data removed]",
      "text/plain": [
       "<Figure size 432x288 with 1 Axes>"
      ]
     },
     "metadata": {
      "needs_background": "light"
     },
     "output_type": "display_data"
    }
   ],
   "source": [
    "for i in range(400):\n",
    "    if data['гендер'][i]==8:\n",
    "        plt.scatter(data['возраст'][i], data['зарплата'][i], c=\"#FF0099\")\n",
    "    else:\n",
    "        plt.scatter(data['возраст'][i], data['зарплата'][i], c=\"#0099FF\")\n",
    "plt.plot(k, mymodel,c=\"g\")\n",
    "plt.title(\"Прогнозирование с линейной регрессией\")\n",
    "plt.xlabel('возраст')\n",
    "plt.ylabel('зарплата')\n",
    "plt.show()"
   ]
  },
  {
   "cell_type": "code",
   "execution_count": 73,
   "id": "d2f9d1d1",
   "metadata": {
    "scrolled": true
   },
   "outputs": [
    {
     "name": "stdout",
     "output_type": "stream",
     "text": [
      "Введите ваш возраст: 30\n",
      "Гендер(женский-8, мужской-7): 7\n",
      "Прогнозируемая зарплата: 192485 KZT\n"
     ]
    }
   ],
   "source": [
    "k=int(input(\"Введите ваш возраст: \")) \n",
    "k2=input(\"Гендер(женский-8, мужской-7): \")\n",
    "if int(myfunc(k))==1:\n",
    "    print(\"Прогнозируемая зарплата: \"+str(int(myfunc(k)))+\" KZT\")\n",
    "else:\n",
    "    print(\"Прогнозируемая зарплата: \"+str(int(myfunc(k)))+\" KZT\")"
   ]
  },
  {
   "cell_type": "markdown",
   "id": "d17bb4b8",
   "metadata": {},
   "source": [
    "# Прогнозирование с полиномиальной регрессии"
   ]
  },
  {
   "cell_type": "code",
   "execution_count": 75,
   "id": "5313e95f",
   "metadata": {},
   "outputs": [],
   "source": [
    "import numpy as np\n",
    "import matplotlib.pyplot as plt\n",
    "k = data['возраст']\n",
    "l = data['зарплата']\n",
    "mymodel = np.poly1d(np.polyfit(k, l, 3))\n",
    "myline = np.linspace(18, 60, 30)"
   ]
  },
  {
   "cell_type": "code",
   "execution_count": 76,
   "id": "1cb4f9a5",
   "metadata": {
    "scrolled": true
   },
   "outputs": [
    {
     "data": {
      "image/png": "[encoded data removed]",
      "text/plain": [
       "<Figure size 432x288 with 1 Axes>"
      ]
     },
     "metadata": {
      "needs_background": "light"
     },
     "output_type": "display_data"
    }
   ],
   "source": [
    "for i in range(400):\n",
    "    if data['гендер'][i]==8:\n",
    "        plt.scatter(data['возраст'][i], data['зарплата'][i], c=\"#FF0099\")\n",
    "    else:\n",
    "        plt.scatter(data['возраст'][i], data['зарплата'][i], c=\"#0099FF\")\n",
    "plt.plot(myline, mymodel(myline), c=\"g\")\n",
    "plt.title(\"Прогнозирование с полиномиальной регрессией\")\n",
    "plt.xlabel('возраст')\n",
    "plt.ylabel('зарплата')\n",
    "plt.show()"
   ]
  },
  {
   "cell_type": "code",
   "execution_count": 78,
   "id": "36860ed5",
   "metadata": {},
   "outputs": [
    {
     "name": "stdout",
     "output_type": "stream",
     "text": [
      "Введите ваш возраст: 30\n",
      "Опыт работы(год): 3\n",
      "Гендер(женский-8, мужской-7): 7\n",
      "Прогнозируемая зарплата: 229072 KZT\n"
     ]
    }
   ],
   "source": [
    "k=int(input(\"Введите ваш возраст: \"))\n",
    "s1=input(\"Опыт работы(год): \")\n",
    "s2=input(\"Гендер(женский-8, мужской-7): \")\n",
    "if int(mymodel(k))==1:\n",
    "    print(\"Прогнозируемая зарплата: \"+str(int(mymodel(k)))+\" KZT\")\n",
    "else:\n",
    "    print(\"Прогнозируемая зарплата: \"+str(int(mymodel(k)))+\" KZT\")"
   ]
  },
  {
   "cell_type": "markdown",
   "id": "9a618ac0",
   "metadata": {},
   "source": [
    "# Прогнозирование с множественной регрессией"
   ]
  },
  {
   "cell_type": "code",
   "execution_count": 63,
   "id": "41527384",
   "metadata": {},
   "outputs": [],
   "source": [
    "X = data[['гендер', 'возраст', 'рабочий опыт']]\n",
    "y = data['зарплата']"
   ]
  },
  {
   "cell_type": "code",
   "execution_count": 64,
   "id": "6ae6dab1",
   "metadata": {},
   "outputs": [
    {
     "data": {
      "text/plain": [
       "LinearRegression()"
      ]
     },
     "execution_count": 64,
     "metadata": {},
     "output_type": "execute_result"
    }
   ],
   "source": [
    "regr = linear_model.LinearRegression()\n",
    "regr.fit(X, y)"
   ]
  },
  {
   "cell_type": "code",
   "execution_count": 65,
   "id": "2040f091",
   "metadata": {},
   "outputs": [],
   "source": [
    "data[\"рабочий опыт\"]=data[\"рабочий опыт\"].astype(int)"
   ]
  },
  {
   "cell_type": "code",
   "execution_count": 67,
   "id": "bf869428",
   "metadata": {
    "scrolled": true
   },
   "outputs": [
    {
     "name": "stdout",
     "output_type": "stream",
     "text": [
      "Введите пол(женский-8, мужской-7): 7\n",
      "Введите возраст: 30\n",
      "Введите опыт работы(год): 3\n",
      "Прогнозируемая зарплата: 216470 KZT\n"
     ]
    }
   ],
   "source": [
    "a=int(input(\"Введите пол(женский-8, мужской-7): \"))\n",
    "b=int(input(\"Введите возраст: \"))\n",
    "d=int(input(\"Введите опыт работы(год): \"))\n",
    "predicted_rbt = regr.predict([[a, b, d]])\n",
    "print(\"Прогнозируемая зарплата: \"+str(int(predicted_rbt[0]))+\" KZT\")"
   ]
  },
  {
   "cell_type": "code",
   "execution_count": null,
   "id": "1c18ee24",
   "metadata": {},
   "outputs": [],
   "source": []
  }
 ],
 "metadata": {
  "kernelspec": {
   "display_name": "Python 3",
   "language": "python",
   "name": "python3"
  },
  "language_info": {
   "codemirror_mode": {
    "name": "ipython",
    "version": 3
   },
   "file_extension": ".py",
   "mimetype": "text/x-python",
   "name": "python",
   "nbconvert_exporter": "python",
   "pygments_lexer": "ipython3",
   "version": "3.8.8"
  }
 },
 "nbformat": 4,
 "nbformat_minor": 5
}
